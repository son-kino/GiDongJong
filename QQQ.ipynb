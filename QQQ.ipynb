{
 "cells": [
  {
   "cell_type": "code",
   "execution_count": 102,
   "metadata": {},
   "outputs": [
    {
     "name": "stdout",
     "output_type": "stream",
     "text": [
      "Requirement already satisfied: pandas in /Users/jongmyng/anaconda3/lib/python3.11/site-packages (2.0.3)\n",
      "Requirement already satisfied: numpy in /Users/jongmyng/anaconda3/lib/python3.11/site-packages (1.24.3)\n",
      "Requirement already satisfied: seaborn in /Users/jongmyng/anaconda3/lib/python3.11/site-packages (0.12.2)\n",
      "Requirement already satisfied: matplotlib in /Users/jongmyng/anaconda3/lib/python3.11/site-packages (3.7.2)\n",
      "Requirement already satisfied: scikit-learn in /Users/jongmyng/anaconda3/lib/python3.11/site-packages (1.3.0)\n",
      "Requirement already satisfied: python-dateutil>=2.8.2 in /Users/jongmyng/anaconda3/lib/python3.11/site-packages (from pandas) (2.8.2)\n",
      "Requirement already satisfied: pytz>=2020.1 in /Users/jongmyng/anaconda3/lib/python3.11/site-packages (from pandas) (2023.3.post1)\n",
      "Requirement already satisfied: tzdata>=2022.1 in /Users/jongmyng/anaconda3/lib/python3.11/site-packages (from pandas) (2023.3)\n",
      "Requirement already satisfied: contourpy>=1.0.1 in /Users/jongmyng/anaconda3/lib/python3.11/site-packages (from matplotlib) (1.0.5)\n",
      "Requirement already satisfied: cycler>=0.10 in /Users/jongmyng/anaconda3/lib/python3.11/site-packages (from matplotlib) (0.11.0)\n",
      "Requirement already satisfied: fonttools>=4.22.0 in /Users/jongmyng/anaconda3/lib/python3.11/site-packages (from matplotlib) (4.25.0)\n",
      "Requirement already satisfied: kiwisolver>=1.0.1 in /Users/jongmyng/anaconda3/lib/python3.11/site-packages (from matplotlib) (1.4.4)\n",
      "Requirement already satisfied: packaging>=20.0 in /Users/jongmyng/anaconda3/lib/python3.11/site-packages (from matplotlib) (23.1)\n",
      "Requirement already satisfied: pillow>=6.2.0 in /Users/jongmyng/anaconda3/lib/python3.11/site-packages (from matplotlib) (10.0.1)\n",
      "Requirement already satisfied: pyparsing<3.1,>=2.3.1 in /Users/jongmyng/anaconda3/lib/python3.11/site-packages (from matplotlib) (3.0.9)\n",
      "Requirement already satisfied: scipy>=1.5.0 in /Users/jongmyng/anaconda3/lib/python3.11/site-packages (from scikit-learn) (1.11.1)\n",
      "Requirement already satisfied: joblib>=1.1.1 in /Users/jongmyng/anaconda3/lib/python3.11/site-packages (from scikit-learn) (1.2.0)\n",
      "Requirement already satisfied: threadpoolctl>=2.0.0 in /Users/jongmyng/anaconda3/lib/python3.11/site-packages (from scikit-learn) (2.2.0)\n",
      "Requirement already satisfied: six>=1.5 in /Users/jongmyng/anaconda3/lib/python3.11/site-packages (from python-dateutil>=2.8.2->pandas) (1.16.0)\n"
     ]
    }
   ],
   "source": [
    "!pip install pandas numpy seaborn matplotlib scikit-learn"
   ]
  },
  {
   "cell_type": "code",
   "execution_count": 103,
   "metadata": {},
   "outputs": [],
   "source": [
    "import pandas as pd\n",
    "import numpy as np  \n",
    "import seaborn as sns\n",
    "import matplotlib.pyplot as plt\n"
   ]
  },
  {
   "cell_type": "code",
   "execution_count": 109,
   "metadata": {},
   "outputs": [],
   "source": [
    "qqq = pd.read_csv('/Users/jongmyng/Desktop/bda2/QQQ(2004:01:02~2024:06:20) 복사본.csv')\n",
    "cpi= pd.read_csv('/Users/jongmyng/Desktop/bda2/소비자물가지수(04:01~24:05).csv',\n",
    "                 encoding='cp949')"
   ]
  },
  {
   "cell_type": "markdown",
   "metadata": {},
   "source": [
    "# 전처리\n",
    "##  qqq"
   ]
  },
  {
   "cell_type": "code",
   "execution_count": 110,
   "metadata": {},
   "outputs": [],
   "source": [
    "import datetime as dt\n",
    "qqq['날짜'] = pd.to_datetime(qqq['날짜'])\n",
    "qqq['연월'] = qqq['날짜'].dt.strftime('%Y-%m')\n",
    "\n",
    "qqq['연도'] = qqq['날짜'].dt.year\n",
    "qqq['월'] = qqq['날짜'].dt.month\n",
    "qqq['일'] = qqq['날짜'].dt.day\n",
    "qqq['요일']= qqq['날짜'].dt.weekday\n",
    "qqq['요일'] = qqq['요일'].replace({0:'월',1:'화',2:'수',3:'목',4:'금'})\n",
    "qqq = qqq.sort_values(by='날짜', ascending=True)\n",
    "\n"
   ]
  },
  {
   "cell_type": "code",
   "execution_count": 111,
   "metadata": {},
   "outputs": [],
   "source": [
    "qqq.reset_index(drop=True, inplace=True)"
   ]
  },
  {
   "cell_type": "code",
   "execution_count": 112,
   "metadata": {},
   "outputs": [
    {
     "data": {
      "text/html": [
       "<div>\n",
       "<style scoped>\n",
       "    .dataframe tbody tr th:only-of-type {\n",
       "        vertical-align: middle;\n",
       "    }\n",
       "\n",
       "    .dataframe tbody tr th {\n",
       "        vertical-align: top;\n",
       "    }\n",
       "\n",
       "    .dataframe thead th {\n",
       "        text-align: right;\n",
       "    }\n",
       "</style>\n",
       "<table border=\"1\" class=\"dataframe\">\n",
       "  <thead>\n",
       "    <tr style=\"text-align: right;\">\n",
       "      <th></th>\n",
       "      <th>날짜</th>\n",
       "      <th>종가</th>\n",
       "      <th>시가</th>\n",
       "      <th>고가</th>\n",
       "      <th>저가</th>\n",
       "      <th>거래량</th>\n",
       "      <th>변동 %</th>\n",
       "      <th>연월</th>\n",
       "      <th>연도</th>\n",
       "      <th>월</th>\n",
       "      <th>일</th>\n",
       "      <th>요일</th>\n",
       "    </tr>\n",
       "  </thead>\n",
       "  <tbody>\n",
       "    <tr>\n",
       "      <th>0</th>\n",
       "      <td>2004-01-02</td>\n",
       "      <td>36.21</td>\n",
       "      <td>36.51</td>\n",
       "      <td>36.64</td>\n",
       "      <td>36.07</td>\n",
       "      <td>55.26M</td>\n",
       "      <td>-0.28%</td>\n",
       "      <td>2004-01</td>\n",
       "      <td>2004</td>\n",
       "      <td>1</td>\n",
       "      <td>2</td>\n",
       "      <td>금</td>\n",
       "    </tr>\n",
       "    <tr>\n",
       "      <th>1</th>\n",
       "      <td>2004-01-05</td>\n",
       "      <td>36.94</td>\n",
       "      <td>36.43</td>\n",
       "      <td>37.00</td>\n",
       "      <td>36.41</td>\n",
       "      <td>69.76M</td>\n",
       "      <td>2.02%</td>\n",
       "      <td>2004-01</td>\n",
       "      <td>2004</td>\n",
       "      <td>1</td>\n",
       "      <td>5</td>\n",
       "      <td>월</td>\n",
       "    </tr>\n",
       "    <tr>\n",
       "      <th>2</th>\n",
       "      <td>2004-01-06</td>\n",
       "      <td>37.19</td>\n",
       "      <td>36.93</td>\n",
       "      <td>37.27</td>\n",
       "      <td>36.80</td>\n",
       "      <td>60.08M</td>\n",
       "      <td>0.68%</td>\n",
       "      <td>2004-01</td>\n",
       "      <td>2004</td>\n",
       "      <td>1</td>\n",
       "      <td>6</td>\n",
       "      <td>화</td>\n",
       "    </tr>\n",
       "    <tr>\n",
       "      <th>3</th>\n",
       "      <td>2004-01-07</td>\n",
       "      <td>37.52</td>\n",
       "      <td>37.13</td>\n",
       "      <td>37.52</td>\n",
       "      <td>36.92</td>\n",
       "      <td>71.90M</td>\n",
       "      <td>0.89%</td>\n",
       "      <td>2004-01</td>\n",
       "      <td>2004</td>\n",
       "      <td>1</td>\n",
       "      <td>7</td>\n",
       "      <td>수</td>\n",
       "    </tr>\n",
       "    <tr>\n",
       "      <th>4</th>\n",
       "      <td>2004-01-08</td>\n",
       "      <td>37.82</td>\n",
       "      <td>37.69</td>\n",
       "      <td>37.84</td>\n",
       "      <td>37.44</td>\n",
       "      <td>78.27M</td>\n",
       "      <td>0.80%</td>\n",
       "      <td>2004-01</td>\n",
       "      <td>2004</td>\n",
       "      <td>1</td>\n",
       "      <td>8</td>\n",
       "      <td>목</td>\n",
       "    </tr>\n",
       "    <tr>\n",
       "      <th>...</th>\n",
       "      <td>...</td>\n",
       "      <td>...</td>\n",
       "      <td>...</td>\n",
       "      <td>...</td>\n",
       "      <td>...</td>\n",
       "      <td>...</td>\n",
       "      <td>...</td>\n",
       "      <td>...</td>\n",
       "      <td>...</td>\n",
       "      <td>...</td>\n",
       "      <td>...</td>\n",
       "      <td>...</td>\n",
       "    </tr>\n",
       "    <tr>\n",
       "      <th>4995</th>\n",
       "      <td>2024-06-13</td>\n",
       "      <td>476.72</td>\n",
       "      <td>477.72</td>\n",
       "      <td>478.39</td>\n",
       "      <td>474.42</td>\n",
       "      <td>25.86M</td>\n",
       "      <td>0.54%</td>\n",
       "      <td>2024-06</td>\n",
       "      <td>2024</td>\n",
       "      <td>6</td>\n",
       "      <td>13</td>\n",
       "      <td>목</td>\n",
       "    </tr>\n",
       "    <tr>\n",
       "      <th>4996</th>\n",
       "      <td>2024-06-14</td>\n",
       "      <td>479.19</td>\n",
       "      <td>476.52</td>\n",
       "      <td>479.26</td>\n",
       "      <td>476.05</td>\n",
       "      <td>23.37M</td>\n",
       "      <td>0.52%</td>\n",
       "      <td>2024-06</td>\n",
       "      <td>2024</td>\n",
       "      <td>6</td>\n",
       "      <td>14</td>\n",
       "      <td>금</td>\n",
       "    </tr>\n",
       "    <tr>\n",
       "      <th>4997</th>\n",
       "      <td>2024-06-17</td>\n",
       "      <td>485.06</td>\n",
       "      <td>479.46</td>\n",
       "      <td>486.86</td>\n",
       "      <td>478.14</td>\n",
       "      <td>37.05M</td>\n",
       "      <td>1.22%</td>\n",
       "      <td>2024-06</td>\n",
       "      <td>2024</td>\n",
       "      <td>6</td>\n",
       "      <td>17</td>\n",
       "      <td>월</td>\n",
       "    </tr>\n",
       "    <tr>\n",
       "      <th>4998</th>\n",
       "      <td>2024-06-18</td>\n",
       "      <td>485.21</td>\n",
       "      <td>485.01</td>\n",
       "      <td>485.90</td>\n",
       "      <td>483.43</td>\n",
       "      <td>24.44M</td>\n",
       "      <td>0.03%</td>\n",
       "      <td>2024-06</td>\n",
       "      <td>2024</td>\n",
       "      <td>6</td>\n",
       "      <td>18</td>\n",
       "      <td>화</td>\n",
       "    </tr>\n",
       "    <tr>\n",
       "      <th>4999</th>\n",
       "      <td>2024-06-20</td>\n",
       "      <td>481.47</td>\n",
       "      <td>486.43</td>\n",
       "      <td>486.81</td>\n",
       "      <td>479.68</td>\n",
       "      <td>32.23M</td>\n",
       "      <td>-0.77%</td>\n",
       "      <td>2024-06</td>\n",
       "      <td>2024</td>\n",
       "      <td>6</td>\n",
       "      <td>20</td>\n",
       "      <td>목</td>\n",
       "    </tr>\n",
       "  </tbody>\n",
       "</table>\n",
       "<p>5000 rows × 12 columns</p>\n",
       "</div>"
      ],
      "text/plain": [
       "             날짜      종가      시가      고가      저가     거래량    변동 %       연월  \\\n",
       "0    2004-01-02   36.21   36.51   36.64   36.07  55.26M  -0.28%  2004-01   \n",
       "1    2004-01-05   36.94   36.43   37.00   36.41  69.76M   2.02%  2004-01   \n",
       "2    2004-01-06   37.19   36.93   37.27   36.80  60.08M   0.68%  2004-01   \n",
       "3    2004-01-07   37.52   37.13   37.52   36.92  71.90M   0.89%  2004-01   \n",
       "4    2004-01-08   37.82   37.69   37.84   37.44  78.27M   0.80%  2004-01   \n",
       "...         ...     ...     ...     ...     ...     ...     ...      ...   \n",
       "4995 2024-06-13  476.72  477.72  478.39  474.42  25.86M   0.54%  2024-06   \n",
       "4996 2024-06-14  479.19  476.52  479.26  476.05  23.37M   0.52%  2024-06   \n",
       "4997 2024-06-17  485.06  479.46  486.86  478.14  37.05M   1.22%  2024-06   \n",
       "4998 2024-06-18  485.21  485.01  485.90  483.43  24.44M   0.03%  2024-06   \n",
       "4999 2024-06-20  481.47  486.43  486.81  479.68  32.23M  -0.77%  2024-06   \n",
       "\n",
       "        연도  월   일 요일  \n",
       "0     2004  1   2  금  \n",
       "1     2004  1   5  월  \n",
       "2     2004  1   6  화  \n",
       "3     2004  1   7  수  \n",
       "4     2004  1   8  목  \n",
       "...    ... ..  .. ..  \n",
       "4995  2024  6  13  목  \n",
       "4996  2024  6  14  금  \n",
       "4997  2024  6  17  월  \n",
       "4998  2024  6  18  화  \n",
       "4999  2024  6  20  목  \n",
       "\n",
       "[5000 rows x 12 columns]"
      ]
     },
     "execution_count": 112,
     "metadata": {},
     "output_type": "execute_result"
    }
   ],
   "source": [
    "qqq"
   ]
  },
  {
   "cell_type": "code",
   "execution_count": 113,
   "metadata": {},
   "outputs": [
    {
     "data": {
      "text/plain": [
       "Text(0.5, 1.0, '날짜별 종가')"
      ]
     },
     "execution_count": 113,
     "metadata": {},
     "output_type": "execute_result"
    },
    {
     "data": {
      "image/png": "[encoded data removed]",
      "text/plain": [
       "<Figure size 640x480 with 1 Axes>"
      ]
     },
     "metadata": {},
     "output_type": "display_data"
    }
   ],
   "source": [
    "sns.lineplot(x='날짜', y='종가', data=qqq)\n",
    "plt.title('날짜별 종가')"
   ]
  },
  {
   "cell_type": "markdown",
   "metadata": {},
   "source": [
    "## cpi"
   ]
  },
  {
   "cell_type": "code",
   "execution_count": 114,
   "metadata": {},
   "outputs": [
    {
     "data": {
      "text/plain": [
       "Index(['시점', '전국', '전국.1'], dtype='object')"
      ]
     },
     "execution_count": 114,
     "metadata": {},
     "output_type": "execute_result"
    }
   ],
   "source": [
    "cpi.columns"
   ]
  },
  {
   "cell_type": "code",
   "execution_count": 115,
   "metadata": {},
   "outputs": [],
   "source": [
    "cpi.rename(columns={'전국' : 'cpi',\n",
    "                    '전국.1' : '전월대비증감률'}, inplace=True)\n",
    "cpi.drop(0,axis=0, inplace=True)\n"
   ]
  },
  {
   "cell_type": "code",
   "execution_count": 116,
   "metadata": {},
   "outputs": [
    {
     "name": "stderr",
     "output_type": "stream",
     "text": [
      "/var/folders/fz/nl6s3pmj3tj57mpffc5d1h080000gn/T/ipykernel_57793/3846049616.py:1: UserWarning: Could not infer format, so each element will be parsed individually, falling back to `dateutil`. To ensure parsing is consistent and as-expected, please specify a format.\n",
      "  cpi['시점'] = pd.to_datetime(cpi['시점'])\n"
     ]
    }
   ],
   "source": [
    "cpi['시점'] = pd.to_datetime(cpi['시점'])\n",
    "cpi.reset_index(inplace=True, drop=True)"
   ]
  },
  {
   "cell_type": "code",
   "execution_count": 120,
   "metadata": {},
   "outputs": [
    {
     "data": {
      "text/html": [
       "<div>\n",
       "<style scoped>\n",
       "    .dataframe tbody tr th:only-of-type {\n",
       "        vertical-align: middle;\n",
       "    }\n",
       "\n",
       "    .dataframe tbody tr th {\n",
       "        vertical-align: top;\n",
       "    }\n",
       "\n",
       "    .dataframe thead th {\n",
       "        text-align: right;\n",
       "    }\n",
       "</style>\n",
       "<table border=\"1\" class=\"dataframe\">\n",
       "  <thead>\n",
       "    <tr style=\"text-align: right;\">\n",
       "      <th></th>\n",
       "      <th>시점</th>\n",
       "      <th>cpi</th>\n",
       "      <th>전월대비증감률</th>\n",
       "      <th>연월</th>\n",
       "    </tr>\n",
       "  </thead>\n",
       "  <tbody>\n",
       "    <tr>\n",
       "      <th>0</th>\n",
       "      <td>2004-01-01</td>\n",
       "      <td>71.172</td>\n",
       "      <td>0.6</td>\n",
       "      <td>2004-01</td>\n",
       "    </tr>\n",
       "    <tr>\n",
       "      <th>1</th>\n",
       "      <td>2004-02-01</td>\n",
       "      <td>71.487</td>\n",
       "      <td>0.4</td>\n",
       "      <td>2004-02</td>\n",
       "    </tr>\n",
       "    <tr>\n",
       "      <th>2</th>\n",
       "      <td>2004-03-01</td>\n",
       "      <td>72.181</td>\n",
       "      <td>1.0</td>\n",
       "      <td>2004-03</td>\n",
       "    </tr>\n",
       "    <tr>\n",
       "      <th>3</th>\n",
       "      <td>2004-04-01</td>\n",
       "      <td>72.181</td>\n",
       "      <td>0.0</td>\n",
       "      <td>2004-04</td>\n",
       "    </tr>\n",
       "    <tr>\n",
       "      <th>4</th>\n",
       "      <td>2004-05-01</td>\n",
       "      <td>72.119</td>\n",
       "      <td>-0.1</td>\n",
       "      <td>2004-05</td>\n",
       "    </tr>\n",
       "  </tbody>\n",
       "</table>\n",
       "</div>"
      ],
      "text/plain": [
       "          시점     cpi 전월대비증감률       연월\n",
       "0 2004-01-01  71.172     0.6  2004-01\n",
       "1 2004-02-01  71.487     0.4  2004-02\n",
       "2 2004-03-01  72.181     1.0  2004-03\n",
       "3 2004-04-01  72.181     0.0  2004-04\n",
       "4 2004-05-01  72.119    -0.1  2004-05"
      ]
     },
     "execution_count": 120,
     "metadata": {},
     "output_type": "execute_result"
    }
   ],
   "source": [
    "cpi['연월'] = cpi['시점'].dt.strftime('%Y-%m')\n",
    "\n",
    "cpi.head()"
   ]
  },
  {
   "cell_type": "code",
   "execution_count": 127,
   "metadata": {},
   "outputs": [],
   "source": [
    "cpi['cpi'] =cpi['cpi'].astype(float)"
   ]
  },
  {
   "cell_type": "code",
   "execution_count": 131,
   "metadata": {},
   "outputs": [
    {
     "data": {
      "text/plain": [
       "<matplotlib.legend.Legend at 0x17c4467b0>"
      ]
     },
     "execution_count": 131,
     "metadata": {},
     "output_type": "execute_result"
    },
    {
     "data": {
      "image/png": "[encoded data removed]",
      "text/plain": [
       "<Figure size 640x480 with 1 Axes>"
      ]
     },
     "metadata": {},
     "output_type": "display_data"
    }
   ],
   "source": [
    "sns.lineplot(data=qqq,\n",
    "             x='날짜',\n",
    "             y='종가',\n",
    "             label='QQQ종가')\n",
    "sns.lineplot(data=cpi,\n",
    "            x='시점',\n",
    "            y='cpi',\n",
    "            label='소비자물가지수')\n",
    "plt.legend()\n"
   ]
  },
  {
   "cell_type": "code",
   "execution_count": 139,
   "metadata": {},
   "outputs": [
    {
     "data": {
      "text/plain": [
       "<Axes: xlabel='시점', ylabel='cpi'>"
      ]
     },
     "execution_count": 139,
     "metadata": {},
     "output_type": "execute_result"
    },
    {
     "data": {
      "image/png": "[encoded data removed]",
      "text/plain": [
       "<Figure size 640x480 with 1 Axes>"
      ]
     },
     "metadata": {},
     "output_type": "display_data"
    }
   ],
   "source": [
    "sns.lineplot(x='시점',\n",
    "             y='cpi',\n",
    "             data=cpi)"
   ]
  },
  {
   "cell_type": "code",
   "execution_count": 141,
   "metadata": {},
   "outputs": [
    {
     "data": {
      "text/html": [
       "<div>\n",
       "<style scoped>\n",
       "    .dataframe tbody tr th:only-of-type {\n",
       "        vertical-align: middle;\n",
       "    }\n",
       "\n",
       "    .dataframe tbody tr th {\n",
       "        vertical-align: top;\n",
       "    }\n",
       "\n",
       "    .dataframe thead th {\n",
       "        text-align: right;\n",
       "    }\n",
       "</style>\n",
       "<table border=\"1\" class=\"dataframe\">\n",
       "  <thead>\n",
       "    <tr style=\"text-align: right;\">\n",
       "      <th></th>\n",
       "      <th>시점</th>\n",
       "      <th>cpi</th>\n",
       "      <th>전월대비증감률</th>\n",
       "      <th>연월</th>\n",
       "    </tr>\n",
       "  </thead>\n",
       "  <tbody>\n",
       "    <tr>\n",
       "      <th>0</th>\n",
       "      <td>2004-01-01</td>\n",
       "      <td>71.172</td>\n",
       "      <td>0.6</td>\n",
       "      <td>2004-01</td>\n",
       "    </tr>\n",
       "    <tr>\n",
       "      <th>1</th>\n",
       "      <td>2004-02-01</td>\n",
       "      <td>71.487</td>\n",
       "      <td>0.4</td>\n",
       "      <td>2004-02</td>\n",
       "    </tr>\n",
       "    <tr>\n",
       "      <th>2</th>\n",
       "      <td>2004-03-01</td>\n",
       "      <td>72.181</td>\n",
       "      <td>1.0</td>\n",
       "      <td>2004-03</td>\n",
       "    </tr>\n",
       "    <tr>\n",
       "      <th>3</th>\n",
       "      <td>2004-04-01</td>\n",
       "      <td>72.181</td>\n",
       "      <td>0.0</td>\n",
       "      <td>2004-04</td>\n",
       "    </tr>\n",
       "    <tr>\n",
       "      <th>4</th>\n",
       "      <td>2004-05-01</td>\n",
       "      <td>72.119</td>\n",
       "      <td>-0.1</td>\n",
       "      <td>2004-05</td>\n",
       "    </tr>\n",
       "    <tr>\n",
       "      <th>...</th>\n",
       "      <td>...</td>\n",
       "      <td>...</td>\n",
       "      <td>...</td>\n",
       "      <td>...</td>\n",
       "    </tr>\n",
       "    <tr>\n",
       "      <th>240</th>\n",
       "      <td>2024-01-01</td>\n",
       "      <td>113.150</td>\n",
       "      <td>0.4</td>\n",
       "      <td>2024-01</td>\n",
       "    </tr>\n",
       "    <tr>\n",
       "      <th>241</th>\n",
       "      <td>2024-02-01</td>\n",
       "      <td>113.770</td>\n",
       "      <td>0.5</td>\n",
       "      <td>2024-02</td>\n",
       "    </tr>\n",
       "    <tr>\n",
       "      <th>242</th>\n",
       "      <td>2024-03-01</td>\n",
       "      <td>113.940</td>\n",
       "      <td>0.1</td>\n",
       "      <td>2024-03</td>\n",
       "    </tr>\n",
       "    <tr>\n",
       "      <th>243</th>\n",
       "      <td>2024-04-01</td>\n",
       "      <td>113.990</td>\n",
       "      <td>0.0</td>\n",
       "      <td>2024-04</td>\n",
       "    </tr>\n",
       "    <tr>\n",
       "      <th>244</th>\n",
       "      <td>2024-05-01</td>\n",
       "      <td>114.090</td>\n",
       "      <td>0.1</td>\n",
       "      <td>2024-05</td>\n",
       "    </tr>\n",
       "  </tbody>\n",
       "</table>\n",
       "<p>245 rows × 4 columns</p>\n",
       "</div>"
      ],
      "text/plain": [
       "            시점      cpi 전월대비증감률       연월\n",
       "0   2004-01-01   71.172     0.6  2004-01\n",
       "1   2004-02-01   71.487     0.4  2004-02\n",
       "2   2004-03-01   72.181     1.0  2004-03\n",
       "3   2004-04-01   72.181     0.0  2004-04\n",
       "4   2004-05-01   72.119    -0.1  2004-05\n",
       "..         ...      ...     ...      ...\n",
       "240 2024-01-01  113.150     0.4  2024-01\n",
       "241 2024-02-01  113.770     0.5  2024-02\n",
       "242 2024-03-01  113.940     0.1  2024-03\n",
       "243 2024-04-01  113.990     0.0  2024-04\n",
       "244 2024-05-01  114.090     0.1  2024-05\n",
       "\n",
       "[245 rows x 4 columns]"
      ]
     },
     "execution_count": 141,
     "metadata": {},
     "output_type": "execute_result"
    }
   ],
   "source": [
    "# 주가 수익률과 Cpi통해서 실질수익률 그래프를 그리기 \n",
    "cpi"
   ]
  },
  {
   "cell_type": "code",
   "execution_count": null,
   "metadata": {},
   "outputs": [],
   "source": []
  },
  {
   "cell_type": "code",
   "execution_count": null,
   "metadata": {},
   "outputs": [],
   "source": []
  },
  {
   "cell_type": "code",
   "execution_count": null,
   "metadata": {},
   "outputs": [],
   "source": []
  },
  {
   "cell_type": "code",
   "execution_count": 132,
   "metadata": {},
   "outputs": [
    {
     "data": {
      "text/plain": [
       "시점         datetime64[ns]\n",
       "cpi               float64\n",
       "전월대비증감률            object\n",
       "연월                 object\n",
       "dtype: object"
      ]
     },
     "execution_count": 132,
     "metadata": {},
     "output_type": "execute_result"
    }
   ],
   "source": []
  },
  {
   "cell_type": "code",
   "execution_count": null,
   "metadata": {},
   "outputs": [],
   "source": []
  }
 ],
 "metadata": {
  "kernelspec": {
   "display_name": "Python 3",
   "language": "python",
   "name": "python3"
  },
  "language_info": {
   "codemirror_mode": {
    "name": "ipython",
    "version": 3
   },
   "file_extension": ".py",
   "mimetype": "text/x-python",
   "name": "python",
   "nbconvert_exporter": "python",
   "pygments_lexer": "ipython3",
   "version": "3.12.2"
  }
 },
 "nbformat": 4,
 "nbformat_minor": 2
}
